{
 "cells": [
  {
   "cell_type": "code",
   "execution_count": null,
   "id": "12d61c66",
   "metadata": {},
   "outputs": [],
   "source": [
    "# import pandas as pd\n",
    "\n",
    "editdummy = pd.read_csv(\"editdummy.csv\")\n",
    "editdummy"
   ]
  },
  {
   "cell_type": "code",
   "execution_count": 27,
   "id": "f0f3978a",
   "metadata": {},
   "outputs": [],
   "source": [
    "import torch\n",
    "import torch.optim as optim\n",
    "import torch.nn as nn\n",
    "import numpy as np\n",
    "import numpy as np\n",
    "import pandas as pd\n",
    "import statsmodels.api as sm\n",
    "import matplotlib.pyplot as plt\n",
    "import statsmodels.formula.api as smf\n",
    "from statsmodels.distributions.empirical_distribution import ECDF"
   ]
  },
  {
   "cell_type": "markdown",
   "id": "8d26564c",
   "metadata": {},
   "source": [
    "### From DataFrame to Tensor"
   ]
  },
  {
   "cell_type": "code",
   "execution_count": 8,
   "id": "071e377e",
   "metadata": {},
   "outputs": [
    {
     "name": "stdout",
     "output_type": "stream",
     "text": [
      "tensor([[0.0000e+00, 3.5252e+04, 2.0000e+00, 0.0000e+00, 2.0000e+00, 4.1768e+01,\n",
      "         0.0000e+00, 1.0000e+00, 0.0000e+00, 0.0000e+00, 1.0000e+00, 0.0000e+00,\n",
      "         0.0000e+00, 0.0000e+00, 0.0000e+00, 0.0000e+00, 0.0000e+00, 0.0000e+00,\n",
      "         0.0000e+00, 0.0000e+00, 1.0000e+00, 0.0000e+00, 0.0000e+00, 0.0000e+00,\n",
      "         0.0000e+00, 0.0000e+00, 0.0000e+00],\n",
      "        [0.0000e+00, 3.5252e+04, 0.0000e+00, 0.0000e+00, 2.0000e+00, 4.1768e+01,\n",
      "         0.0000e+00, 1.0000e+00, 0.0000e+00, 0.0000e+00, 0.0000e+00, 0.0000e+00,\n",
      "         1.0000e+00, 0.0000e+00, 0.0000e+00, 0.0000e+00, 0.0000e+00, 0.0000e+00,\n",
      "         0.0000e+00, 0.0000e+00, 1.0000e+00, 0.0000e+00, 0.0000e+00, 0.0000e+00,\n",
      "         0.0000e+00, 1.0000e+00, 0.0000e+00],\n",
      "        [0.0000e+00, 3.2625e+04, 0.0000e+00, 0.0000e+00, 2.0000e+00, 4.1768e+01,\n",
      "         1.0000e+00, 1.0000e+00, 0.0000e+00, 0.0000e+00, 1.0000e+00, 0.0000e+00,\n",
      "         0.0000e+00, 0.0000e+00, 0.0000e+00, 0.0000e+00, 0.0000e+00, 0.0000e+00,\n",
      "         0.0000e+00, 0.0000e+00, 1.0000e+00, 0.0000e+00, 1.0000e+00, 0.0000e+00,\n",
      "         0.0000e+00, 1.0000e+00, 0.0000e+00],\n",
      "        [0.0000e+00, 3.5252e+04, 0.0000e+00, 0.0000e+00, 3.0000e+00, 4.1768e+01,\n",
      "         1.0000e+00, 1.0000e+00, 0.0000e+00, 0.0000e+00, 1.0000e+00, 0.0000e+00,\n",
      "         0.0000e+00, 0.0000e+00, 0.0000e+00, 0.0000e+00, 0.0000e+00, 0.0000e+00,\n",
      "         0.0000e+00, 0.0000e+00, 1.0000e+00, 0.0000e+00, 0.0000e+00, 0.0000e+00,\n",
      "         0.0000e+00, 0.0000e+00, 0.0000e+00],\n",
      "        [0.0000e+00, 3.2625e+04, 0.0000e+00, 0.0000e+00, 3.0000e+00, 4.1768e+01,\n",
      "         1.0000e+00, 1.0000e+00, 0.0000e+00, 0.0000e+00, 1.0000e+00, 0.0000e+00,\n",
      "         0.0000e+00, 0.0000e+00, 0.0000e+00, 0.0000e+00, 0.0000e+00, 0.0000e+00,\n",
      "         0.0000e+00, 0.0000e+00, 1.0000e+00, 0.0000e+00, 1.0000e+00, 0.0000e+00,\n",
      "         1.0000e+00, 0.0000e+00, 0.0000e+00],\n",
      "        [0.0000e+00, 3.7100e+04, 1.0000e+00, 0.0000e+00, 2.0000e+00, 2.4250e+01,\n",
      "         1.0000e+00, 1.0000e+00, 0.0000e+00, 0.0000e+00, 1.0000e+00, 0.0000e+00,\n",
      "         0.0000e+00, 0.0000e+00, 0.0000e+00, 0.0000e+00, 0.0000e+00, 0.0000e+00,\n",
      "         0.0000e+00, 0.0000e+00, 0.0000e+00, 0.0000e+00, 0.0000e+00, 0.0000e+00,\n",
      "         1.0000e+00, 0.0000e+00, 0.0000e+00],\n",
      "        [0.0000e+00, 4.6400e+04, 2.0000e+00, 0.0000e+00, 5.0000e+00, 4.0333e+01,\n",
      "         0.0000e+00, 1.0000e+00, 0.0000e+00, 0.0000e+00, 1.0000e+00, 0.0000e+00,\n",
      "         0.0000e+00, 0.0000e+00, 0.0000e+00, 0.0000e+00, 0.0000e+00, 0.0000e+00,\n",
      "         0.0000e+00, 0.0000e+00, 0.0000e+00, 0.0000e+00, 0.0000e+00, 0.0000e+00,\n",
      "         0.0000e+00, 0.0000e+00, 1.0000e+00],\n",
      "        [0.0000e+00, 4.8200e+04, 4.0000e+00, 0.0000e+00, 2.0000e+00, 4.4167e+01,\n",
      "         1.0000e+00, 1.0000e+00, 0.0000e+00, 0.0000e+00, 1.0000e+00, 0.0000e+00,\n",
      "         0.0000e+00, 0.0000e+00, 0.0000e+00, 0.0000e+00, 0.0000e+00, 0.0000e+00,\n",
      "         0.0000e+00, 0.0000e+00, 0.0000e+00, 0.0000e+00, 0.0000e+00, 0.0000e+00,\n",
      "         0.0000e+00, 0.0000e+00, 0.0000e+00],\n",
      "        [0.0000e+00, 3.5800e+04, 2.0000e+00, 0.0000e+00, 2.0000e+00, 2.8750e+01,\n",
      "         0.0000e+00, 1.0000e+00, 0.0000e+00, 0.0000e+00, 1.0000e+00, 0.0000e+00,\n",
      "         0.0000e+00, 0.0000e+00, 0.0000e+00, 0.0000e+00, 0.0000e+00, 0.0000e+00,\n",
      "         0.0000e+00, 0.0000e+00, 0.0000e+00, 0.0000e+00, 1.0000e+00, 0.0000e+00,\n",
      "         0.0000e+00, 0.0000e+00, 0.0000e+00],\n",
      "        [0.0000e+00, 2.7641e+04, 1.0000e+00, 0.0000e+00, 2.0000e+00, 2.3667e+01,\n",
      "         1.0000e+00, 1.0000e+00, 0.0000e+00, 0.0000e+00, 1.0000e+00, 0.0000e+00,\n",
      "         0.0000e+00, 0.0000e+00, 0.0000e+00, 0.0000e+00, 0.0000e+00, 0.0000e+00,\n",
      "         0.0000e+00, 0.0000e+00, 0.0000e+00, 0.0000e+00, 0.0000e+00, 0.0000e+00,\n",
      "         0.0000e+00, 0.0000e+00, 0.0000e+00]])\n",
      "torch.Size([16381, 27]) torch.FloatTensor\n"
     ]
    }
   ],
   "source": [
    "loants = torch.from_numpy(editdummy.to_numpy().copy().astype(np.float32))\n",
    "print(loants[:10,])\n",
    "print(loants.shape,loants.type())"
   ]
  },
  {
   "cell_type": "markdown",
   "id": "88ff199c",
   "metadata": {},
   "source": [
    "### Train-Val-Test Split"
   ]
  },
  {
   "cell_type": "code",
   "execution_count": 10,
   "id": "9051570a",
   "metadata": {},
   "outputs": [
    {
     "name": "stdout",
     "output_type": "stream",
     "text": [
      "3276 3276\n"
     ]
    }
   ],
   "source": [
    "n_samples = loants.shape[0]\n",
    "n_val = int(0.2 * n_samples)\n",
    "n_test = int(0.2 * n_samples)\n",
    "print(n_val, n_test)"
   ]
  },
  {
   "cell_type": "code",
   "execution_count": 11,
   "id": "c3fd7f4d",
   "metadata": {},
   "outputs": [],
   "source": [
    "shuffled_indices = torch.randperm(n_samples)\n",
    "train_indices = shuffled_indices[:n_samples - 2*n_test]\n",
    "val_indices = shuffled_indices[n_samples -2*n_test:n_samples - n_test]\n",
    "test_indices = shuffled_indices[n_samples - n_test:]"
   ]
  },
  {
   "cell_type": "code",
   "execution_count": 12,
   "id": "f437a124",
   "metadata": {},
   "outputs": [
    {
     "data": {
      "text/plain": [
       "(torch.Size([9829, 27]), torch.Size([3276, 27]), torch.Size([3276, 27]))"
      ]
     },
     "execution_count": 12,
     "metadata": {},
     "output_type": "execute_result"
    }
   ],
   "source": [
    "loants_train = loants[train_indices]\n",
    "loants_val = loants[val_indices]\n",
    "loants_test = loants[test_indices]\n",
    "loants_train.shape, loants_val.shape, loants_test.shape"
   ]
  },
  {
   "cell_type": "code",
   "execution_count": 13,
   "id": "114d7bb3",
   "metadata": {},
   "outputs": [
    {
     "data": {
      "text/plain": [
       "(torch.Size([9829, 26]),\n",
       " torch.Size([9829, 1]),\n",
       " torch.Size([3276, 26]),\n",
       " torch.Size([3276, 1]),\n",
       " torch.Size([3276, 26]),\n",
       " torch.Size([3276, 1]))"
      ]
     },
     "execution_count": 13,
     "metadata": {},
     "output_type": "execute_result"
    }
   ],
   "source": [
    "xmat_all = loants[:,1:]\n",
    "yvec_all = loants[:,0]\n",
    "\n",
    "xmat_train = loants_train[:,1:]\n",
    "yvec_train = loants_train[:,0].reshape((-1,1))\n",
    "\n",
    "xmat_val = loants_val[:,1:]\n",
    "yvec_val = loants_val[:,0].reshape((-1,1))\n",
    "\n",
    "xmat_test = loants_test[:,1:]\n",
    "yvec_test = loants_test[:,0].reshape((-1,1))\n",
    "\n",
    "xmat_train.shape, yvec_train.shape, xmat_val.shape, yvec_val.shape, xmat_test.shape, yvec_test.shape"
   ]
  },
  {
   "cell_type": "code",
   "execution_count": 14,
   "id": "48beeab5",
   "metadata": {},
   "outputs": [
    {
     "data": {
      "text/plain": [
       "tensor([3.7500e+04, 0.0000e+00, 7.1892e+05, 1.0000e+00, 3.4083e+01, 0.0000e+00,\n",
       "        0.0000e+00, 1.0000e+00, 0.0000e+00, 0.0000e+00, 0.0000e+00, 1.0000e+00,\n",
       "        0.0000e+00, 0.0000e+00, 0.0000e+00, 0.0000e+00, 0.0000e+00, 0.0000e+00,\n",
       "        1.0000e+00, 0.0000e+00, 0.0000e+00, 0.0000e+00, 0.0000e+00, 1.0000e+00,\n",
       "        0.0000e+00, 0.0000e+00])"
      ]
     },
     "execution_count": 14,
     "metadata": {},
     "output_type": "execute_result"
    }
   ],
   "source": [
    "xmat_val[0,:]"
   ]
  },
  {
   "cell_type": "markdown",
   "id": "19cf0156",
   "metadata": {},
   "source": [
    "### Data Preprocessing (Min-Max Scaling or Mean-SD Scaling)"
   ]
  },
  {
   "cell_type": "code",
   "execution_count": 15,
   "id": "af64d6c2",
   "metadata": {},
   "outputs": [],
   "source": [
    "#Standardize Age\n",
    "def min_max_scaler(xmat_train, xmat_val, xmat_test, col_idx):\n",
    "    max_val = torch.max(xmat_train[:, col_idx])\n",
    "    min_val = torch.min(xmat_train[:, col_idx])\n",
    "    xmat_train[:, col_idx] = (xmat_train[:, col_idx] - min_val)/(max_val -  min_val)\n",
    "    xmat_val[:, col_idx] = (xmat_val[:, col_idx] - min_val)/(max_val -  min_val)\n",
    "    xtest_val[:, col_idx] = (xtest_val[:, col_idx] - min_val)/(max_val -  min_val)\n",
    "    return xmat_train, xmat_val, xmat_test\n",
    "\n",
    "def mean_SD_scaler(xmat_train, xmat_val, xmat_test, col_idx):\n",
    "    mean = torch.mean(xmat_train[:, col_idx])\n",
    "    std = torch.std(xmat_train[:, col_idx])\n",
    "    xmat_train[:, col_idx] = (xmat_train[:, col_idx] - mean)/(std)\n",
    "    xmat_val[:, col_idx] = (xmat_val[:, col_idx] - mean)/(std)\n",
    "    xmat_test[:, col_idx] = (xmat_test[:, col_idx] - mean)/(std)\n",
    "    return xmat_train, xmat_val, xmat_test"
   ]
  },
  {
   "cell_type": "code",
   "execution_count": 16,
   "id": "7c8ea72a",
   "metadata": {},
   "outputs": [],
   "source": [
    "xmat_train_u = xmat_train.clone()\n",
    "xmat_val_u = xmat_val.clone()\n",
    "xmat_test_u = xmat_test.clone()\n",
    "\n",
    "xmat_train, xmat_val, xmat_test = mean_SD_scaler(xmat_train, xmat_val, xmat_test, 0)"
   ]
  },
  {
   "cell_type": "code",
   "execution_count": 17,
   "id": "51af9b4e",
   "metadata": {},
   "outputs": [
    {
     "data": {
      "text/plain": [
       "tensor([[3.5771e+04, 0.0000e+00, 0.0000e+00,  ..., 0.0000e+00, 0.0000e+00,\n",
       "         0.0000e+00],\n",
       "        [3.2336e+04, 1.0000e+00, 3.2850e+05,  ..., 0.0000e+00, 0.0000e+00,\n",
       "         0.0000e+00],\n",
       "        [4.5400e+04, 4.0000e+00, 1.3401e+06,  ..., 0.0000e+00, 0.0000e+00,\n",
       "         1.0000e+00],\n",
       "        ...,\n",
       "        [3.1900e+04, 2.0000e+00, 2.0832e+05,  ..., 0.0000e+00, 0.0000e+00,\n",
       "         0.0000e+00],\n",
       "        [2.5500e+04, 0.0000e+00, 0.0000e+00,  ..., 0.0000e+00, 0.0000e+00,\n",
       "         0.0000e+00],\n",
       "        [3.0129e+04, 0.0000e+00, 0.0000e+00,  ..., 1.0000e+00, 0.0000e+00,\n",
       "         0.0000e+00]])"
      ]
     },
     "execution_count": 17,
     "metadata": {},
     "output_type": "execute_result"
    }
   ],
   "source": [
    "xmat_train_u[:,]"
   ]
  },
  {
   "cell_type": "code",
   "execution_count": 18,
   "id": "6fb73a77",
   "metadata": {},
   "outputs": [
    {
     "data": {
      "text/plain": [
       "tensor([[ 2.5021e-01,  0.0000e+00,  0.0000e+00,  ...,  0.0000e+00,\n",
       "          0.0000e+00,  0.0000e+00],\n",
       "        [-2.7673e-01,  1.0000e+00,  3.2850e+05,  ...,  0.0000e+00,\n",
       "          0.0000e+00,  0.0000e+00],\n",
       "        [ 1.7274e+00,  4.0000e+00,  1.3401e+06,  ...,  0.0000e+00,\n",
       "          0.0000e+00,  1.0000e+00],\n",
       "        ...,\n",
       "        [-3.4360e-01,  2.0000e+00,  2.0832e+05,  ...,  0.0000e+00,\n",
       "          0.0000e+00,  0.0000e+00],\n",
       "        [-1.3254e+00,  0.0000e+00,  0.0000e+00,  ...,  0.0000e+00,\n",
       "          0.0000e+00,  0.0000e+00],\n",
       "        [-6.1521e-01,  0.0000e+00,  0.0000e+00,  ...,  1.0000e+00,\n",
       "          0.0000e+00,  0.0000e+00]])"
      ]
     },
     "execution_count": 18,
     "metadata": {},
     "output_type": "execute_result"
    }
   ],
   "source": [
    "xmat_train[:,]"
   ]
  },
  {
   "cell_type": "markdown",
   "id": "11e89466",
   "metadata": {},
   "source": [
    "### Baseline Model"
   ]
  },
  {
   "cell_type": "code",
   "execution_count": 19,
   "id": "160c803a",
   "metadata": {},
   "outputs": [],
   "source": [
    "# https://stackoverflow.com/questions/15792552/numpy-scipy-equivalent-of-r-ecdfxx-function\n",
    "def ecdf(x):\n",
    "    x = np.sort(x)\n",
    "    n = len(x)\n",
    "    def _ecdf(v):\n",
    "        # side='right' because we want Pr(x <= v)\n",
    "        return (np.searchsorted(x, v, side='right') + 1) / n\n",
    "    return _ecdf"
   ]
  },
  {
   "cell_type": "code",
   "execution_count": 20,
   "id": "c48ba822",
   "metadata": {},
   "outputs": [],
   "source": [
    "def get_ksscore(y_hat_val, yvec_val):\n",
    "    goodpdvec = y_hat_val[yvec_val == 0]\n",
    "    badpdvec = y_hat_val[yvec_val == 1]\n",
    "    fgood = ecdf(goodpdvec)\n",
    "    fbad =  ecdf(badpdvec)\n",
    "    scorevec = np.linspace(0, 1,num= 1000)\n",
    "    ks = max(abs(fgood(scorevec) - fbad(scorevec)))\n",
    "    ksscoreindex = np.where(abs(fgood(scorevec) - fbad(scorevec)) == ks)\n",
    "    ksscore = scorevec[ksscoreindex[0]]\n",
    "    return ksscore"
   ]
  },
  {
   "cell_type": "code",
   "execution_count": 21,
   "id": "03118fb9",
   "metadata": {},
   "outputs": [],
   "source": [
    "def get_classification_report(y_hat_val, yvec_val, threshold):\n",
    "    yhat =np.where(y_hat_val >= threshold, 1, 0)\n",
    "    yvec = yvec_val\n",
    "    df = pd.DataFrame(0, index = [\"y=0\", \"y=1\"], columns = [\"yhat = 0\", \"yhat = 1\"])\n",
    "    df.iloc[0,0] = sum((yvec == 0) & (yhat == 0))\n",
    "    df.iloc[0,1] = sum((yvec == 0) & (yhat == 1))\n",
    "    df.iloc[1,0] = sum((yvec == 1) & (yhat == 0))\n",
    "    df.iloc[1,1] = sum((yvec == 1) & (yhat == 1))    \n",
    "    print(df)"
   ]
  },
  {
   "cell_type": "code",
   "execution_count": 23,
   "id": "b2f2372c",
   "metadata": {},
   "outputs": [],
   "source": [
    "# http://www.science.smith.edu/~jcrouser/SDS293/labs/lab4-py.html\n",
    "X_train = pd.DataFrame(xmat_train_u.detach().numpy(), columns = editdummy.columns[1:])\n",
    "y_train = pd.DataFrame(yvec_train.detach().numpy(), columns = editdummy.columns[[0]])\n",
    "df_train = pd.concat([y_train, X_train], axis = 1)\n",
    "\n",
    "X_test = pd.DataFrame(xmat_test_u.detach().numpy(), columns = editdummy.columns[1:])\n",
    "y_test = pd.DataFrame(yvec_test.detach().numpy(), columns = editdummy.columns[[0]])\n",
    "df_test = pd.concat([y_test, X_test], axis = 1)"
   ]
  },
  {
   "cell_type": "code",
   "execution_count": 24,
   "id": "6ff9fac4",
   "metadata": {},
   "outputs": [
    {
     "data": {
      "text/html": [
       "<div>\n",
       "<style scoped>\n",
       "    .dataframe tbody tr th:only-of-type {\n",
       "        vertical-align: middle;\n",
       "    }\n",
       "\n",
       "    .dataframe tbody tr th {\n",
       "        vertical-align: top;\n",
       "    }\n",
       "\n",
       "    .dataframe thead th {\n",
       "        text-align: right;\n",
       "    }\n",
       "</style>\n",
       "<table border=\"1\" class=\"dataframe\">\n",
       "  <thead>\n",
       "    <tr style=\"text-align: right;\">\n",
       "      <th></th>\n",
       "      <th>AIncome</th>\n",
       "      <th>ANumberChildren</th>\n",
       "      <th>GCollateralAmount</th>\n",
       "      <th>GGuarantorNumber</th>\n",
       "      <th>Age</th>\n",
       "      <th>AGender_M</th>\n",
       "      <th>GCollateralType_PER</th>\n",
       "      <th>GCollateralType_REA</th>\n",
       "      <th>GCollateralType_SAV</th>\n",
       "      <th>AMaritalStatus_MAR</th>\n",
       "      <th>...</th>\n",
       "      <th>AOccupation_OWN</th>\n",
       "      <th>AOccupation_PRV</th>\n",
       "      <th>AOccupation_SLF</th>\n",
       "      <th>AOccupation_UNI</th>\n",
       "      <th>AEducation_HIGHER</th>\n",
       "      <th>AEducation_LOWER</th>\n",
       "      <th>AHousing_OTH</th>\n",
       "      <th>AHousing_OWN</th>\n",
       "      <th>AHousing_REN</th>\n",
       "      <th>AHousing_WEL</th>\n",
       "    </tr>\n",
       "  </thead>\n",
       "  <tbody>\n",
       "    <tr>\n",
       "      <th>0</th>\n",
       "      <td>35770.808594</td>\n",
       "      <td>0.0</td>\n",
       "      <td>0.00</td>\n",
       "      <td>2.0</td>\n",
       "      <td>49.250000</td>\n",
       "      <td>1.0</td>\n",
       "      <td>1.0</td>\n",
       "      <td>0.0</td>\n",
       "      <td>0.0</td>\n",
       "      <td>1.0</td>\n",
       "      <td>...</td>\n",
       "      <td>0.0</td>\n",
       "      <td>0.0</td>\n",
       "      <td>0.0</td>\n",
       "      <td>0.0</td>\n",
       "      <td>0.0</td>\n",
       "      <td>1.0</td>\n",
       "      <td>1.0</td>\n",
       "      <td>0.0</td>\n",
       "      <td>0.0</td>\n",
       "      <td>0.0</td>\n",
       "    </tr>\n",
       "    <tr>\n",
       "      <th>1</th>\n",
       "      <td>32335.878906</td>\n",
       "      <td>1.0</td>\n",
       "      <td>328500.00</td>\n",
       "      <td>1.0</td>\n",
       "      <td>34.833332</td>\n",
       "      <td>1.0</td>\n",
       "      <td>0.0</td>\n",
       "      <td>1.0</td>\n",
       "      <td>0.0</td>\n",
       "      <td>1.0</td>\n",
       "      <td>...</td>\n",
       "      <td>0.0</td>\n",
       "      <td>0.0</td>\n",
       "      <td>1.0</td>\n",
       "      <td>0.0</td>\n",
       "      <td>0.0</td>\n",
       "      <td>0.0</td>\n",
       "      <td>0.0</td>\n",
       "      <td>0.0</td>\n",
       "      <td>0.0</td>\n",
       "      <td>0.0</td>\n",
       "    </tr>\n",
       "    <tr>\n",
       "      <th>2</th>\n",
       "      <td>45400.000000</td>\n",
       "      <td>4.0</td>\n",
       "      <td>1340100.00</td>\n",
       "      <td>1.0</td>\n",
       "      <td>55.750000</td>\n",
       "      <td>1.0</td>\n",
       "      <td>0.0</td>\n",
       "      <td>1.0</td>\n",
       "      <td>0.0</td>\n",
       "      <td>1.0</td>\n",
       "      <td>...</td>\n",
       "      <td>0.0</td>\n",
       "      <td>0.0</td>\n",
       "      <td>0.0</td>\n",
       "      <td>0.0</td>\n",
       "      <td>0.0</td>\n",
       "      <td>1.0</td>\n",
       "      <td>0.0</td>\n",
       "      <td>0.0</td>\n",
       "      <td>0.0</td>\n",
       "      <td>1.0</td>\n",
       "    </tr>\n",
       "    <tr>\n",
       "      <th>3</th>\n",
       "      <td>34404.273438</td>\n",
       "      <td>0.0</td>\n",
       "      <td>500000.00</td>\n",
       "      <td>1.0</td>\n",
       "      <td>46.000000</td>\n",
       "      <td>0.0</td>\n",
       "      <td>0.0</td>\n",
       "      <td>0.0</td>\n",
       "      <td>1.0</td>\n",
       "      <td>0.0</td>\n",
       "      <td>...</td>\n",
       "      <td>0.0</td>\n",
       "      <td>0.0</td>\n",
       "      <td>1.0</td>\n",
       "      <td>0.0</td>\n",
       "      <td>0.0</td>\n",
       "      <td>1.0</td>\n",
       "      <td>0.0</td>\n",
       "      <td>1.0</td>\n",
       "      <td>0.0</td>\n",
       "      <td>0.0</td>\n",
       "    </tr>\n",
       "    <tr>\n",
       "      <th>4</th>\n",
       "      <td>32160.681641</td>\n",
       "      <td>0.0</td>\n",
       "      <td>6033150.00</td>\n",
       "      <td>1.0</td>\n",
       "      <td>34.416668</td>\n",
       "      <td>1.0</td>\n",
       "      <td>0.0</td>\n",
       "      <td>1.0</td>\n",
       "      <td>0.0</td>\n",
       "      <td>0.0</td>\n",
       "      <td>...</td>\n",
       "      <td>1.0</td>\n",
       "      <td>0.0</td>\n",
       "      <td>0.0</td>\n",
       "      <td>0.0</td>\n",
       "      <td>0.0</td>\n",
       "      <td>0.0</td>\n",
       "      <td>0.0</td>\n",
       "      <td>1.0</td>\n",
       "      <td>0.0</td>\n",
       "      <td>0.0</td>\n",
       "    </tr>\n",
       "    <tr>\n",
       "      <th>...</th>\n",
       "      <td>...</td>\n",
       "      <td>...</td>\n",
       "      <td>...</td>\n",
       "      <td>...</td>\n",
       "      <td>...</td>\n",
       "      <td>...</td>\n",
       "      <td>...</td>\n",
       "      <td>...</td>\n",
       "      <td>...</td>\n",
       "      <td>...</td>\n",
       "      <td>...</td>\n",
       "      <td>...</td>\n",
       "      <td>...</td>\n",
       "      <td>...</td>\n",
       "      <td>...</td>\n",
       "      <td>...</td>\n",
       "      <td>...</td>\n",
       "      <td>...</td>\n",
       "      <td>...</td>\n",
       "      <td>...</td>\n",
       "      <td>...</td>\n",
       "    </tr>\n",
       "    <tr>\n",
       "      <th>9824</th>\n",
       "      <td>35500.000000</td>\n",
       "      <td>0.0</td>\n",
       "      <td>0.00</td>\n",
       "      <td>2.0</td>\n",
       "      <td>47.000000</td>\n",
       "      <td>1.0</td>\n",
       "      <td>1.0</td>\n",
       "      <td>0.0</td>\n",
       "      <td>0.0</td>\n",
       "      <td>0.0</td>\n",
       "      <td>...</td>\n",
       "      <td>0.0</td>\n",
       "      <td>0.0</td>\n",
       "      <td>0.0</td>\n",
       "      <td>0.0</td>\n",
       "      <td>0.0</td>\n",
       "      <td>1.0</td>\n",
       "      <td>0.0</td>\n",
       "      <td>0.0</td>\n",
       "      <td>1.0</td>\n",
       "      <td>0.0</td>\n",
       "    </tr>\n",
       "    <tr>\n",
       "      <th>9825</th>\n",
       "      <td>31110.578125</td>\n",
       "      <td>1.0</td>\n",
       "      <td>0.00</td>\n",
       "      <td>2.0</td>\n",
       "      <td>38.166668</td>\n",
       "      <td>1.0</td>\n",
       "      <td>1.0</td>\n",
       "      <td>0.0</td>\n",
       "      <td>0.0</td>\n",
       "      <td>1.0</td>\n",
       "      <td>...</td>\n",
       "      <td>0.0</td>\n",
       "      <td>0.0</td>\n",
       "      <td>0.0</td>\n",
       "      <td>0.0</td>\n",
       "      <td>0.0</td>\n",
       "      <td>1.0</td>\n",
       "      <td>0.0</td>\n",
       "      <td>0.0</td>\n",
       "      <td>1.0</td>\n",
       "      <td>0.0</td>\n",
       "    </tr>\n",
       "    <tr>\n",
       "      <th>9826</th>\n",
       "      <td>31900.000000</td>\n",
       "      <td>2.0</td>\n",
       "      <td>208316.25</td>\n",
       "      <td>1.0</td>\n",
       "      <td>48.250000</td>\n",
       "      <td>0.0</td>\n",
       "      <td>0.0</td>\n",
       "      <td>1.0</td>\n",
       "      <td>0.0</td>\n",
       "      <td>1.0</td>\n",
       "      <td>...</td>\n",
       "      <td>0.0</td>\n",
       "      <td>0.0</td>\n",
       "      <td>0.0</td>\n",
       "      <td>0.0</td>\n",
       "      <td>0.0</td>\n",
       "      <td>1.0</td>\n",
       "      <td>0.0</td>\n",
       "      <td>0.0</td>\n",
       "      <td>0.0</td>\n",
       "      <td>0.0</td>\n",
       "    </tr>\n",
       "    <tr>\n",
       "      <th>9827</th>\n",
       "      <td>25500.000000</td>\n",
       "      <td>0.0</td>\n",
       "      <td>0.00</td>\n",
       "      <td>6.0</td>\n",
       "      <td>44.250000</td>\n",
       "      <td>0.0</td>\n",
       "      <td>1.0</td>\n",
       "      <td>0.0</td>\n",
       "      <td>0.0</td>\n",
       "      <td>0.0</td>\n",
       "      <td>...</td>\n",
       "      <td>0.0</td>\n",
       "      <td>0.0</td>\n",
       "      <td>0.0</td>\n",
       "      <td>0.0</td>\n",
       "      <td>0.0</td>\n",
       "      <td>0.0</td>\n",
       "      <td>0.0</td>\n",
       "      <td>0.0</td>\n",
       "      <td>0.0</td>\n",
       "      <td>0.0</td>\n",
       "    </tr>\n",
       "    <tr>\n",
       "      <th>9828</th>\n",
       "      <td>30129.476562</td>\n",
       "      <td>0.0</td>\n",
       "      <td>0.00</td>\n",
       "      <td>3.0</td>\n",
       "      <td>35.833332</td>\n",
       "      <td>0.0</td>\n",
       "      <td>1.0</td>\n",
       "      <td>0.0</td>\n",
       "      <td>0.0</td>\n",
       "      <td>0.0</td>\n",
       "      <td>...</td>\n",
       "      <td>0.0</td>\n",
       "      <td>0.0</td>\n",
       "      <td>0.0</td>\n",
       "      <td>0.0</td>\n",
       "      <td>0.0</td>\n",
       "      <td>1.0</td>\n",
       "      <td>0.0</td>\n",
       "      <td>1.0</td>\n",
       "      <td>0.0</td>\n",
       "      <td>0.0</td>\n",
       "    </tr>\n",
       "  </tbody>\n",
       "</table>\n",
       "<p>9829 rows × 26 columns</p>\n",
       "</div>"
      ],
      "text/plain": [
       "           AIncome  ANumberChildren  GCollateralAmount  GGuarantorNumber  \\\n",
       "0     35770.808594              0.0               0.00               2.0   \n",
       "1     32335.878906              1.0          328500.00               1.0   \n",
       "2     45400.000000              4.0         1340100.00               1.0   \n",
       "3     34404.273438              0.0          500000.00               1.0   \n",
       "4     32160.681641              0.0         6033150.00               1.0   \n",
       "...            ...              ...                ...               ...   \n",
       "9824  35500.000000              0.0               0.00               2.0   \n",
       "9825  31110.578125              1.0               0.00               2.0   \n",
       "9826  31900.000000              2.0          208316.25               1.0   \n",
       "9827  25500.000000              0.0               0.00               6.0   \n",
       "9828  30129.476562              0.0               0.00               3.0   \n",
       "\n",
       "            Age  AGender_M  GCollateralType_PER  GCollateralType_REA  \\\n",
       "0     49.250000        1.0                  1.0                  0.0   \n",
       "1     34.833332        1.0                  0.0                  1.0   \n",
       "2     55.750000        1.0                  0.0                  1.0   \n",
       "3     46.000000        0.0                  0.0                  0.0   \n",
       "4     34.416668        1.0                  0.0                  1.0   \n",
       "...         ...        ...                  ...                  ...   \n",
       "9824  47.000000        1.0                  1.0                  0.0   \n",
       "9825  38.166668        1.0                  1.0                  0.0   \n",
       "9826  48.250000        0.0                  0.0                  1.0   \n",
       "9827  44.250000        0.0                  1.0                  0.0   \n",
       "9828  35.833332        0.0                  1.0                  0.0   \n",
       "\n",
       "      GCollateralType_SAV  AMaritalStatus_MAR  ...  AOccupation_OWN  \\\n",
       "0                     0.0                 1.0  ...              0.0   \n",
       "1                     0.0                 1.0  ...              0.0   \n",
       "2                     0.0                 1.0  ...              0.0   \n",
       "3                     1.0                 0.0  ...              0.0   \n",
       "4                     0.0                 0.0  ...              1.0   \n",
       "...                   ...                 ...  ...              ...   \n",
       "9824                  0.0                 0.0  ...              0.0   \n",
       "9825                  0.0                 1.0  ...              0.0   \n",
       "9826                  0.0                 1.0  ...              0.0   \n",
       "9827                  0.0                 0.0  ...              0.0   \n",
       "9828                  0.0                 0.0  ...              0.0   \n",
       "\n",
       "      AOccupation_PRV  AOccupation_SLF  AOccupation_UNI  AEducation_HIGHER  \\\n",
       "0                 0.0              0.0              0.0                0.0   \n",
       "1                 0.0              1.0              0.0                0.0   \n",
       "2                 0.0              0.0              0.0                0.0   \n",
       "3                 0.0              1.0              0.0                0.0   \n",
       "4                 0.0              0.0              0.0                0.0   \n",
       "...               ...              ...              ...                ...   \n",
       "9824              0.0              0.0              0.0                0.0   \n",
       "9825              0.0              0.0              0.0                0.0   \n",
       "9826              0.0              0.0              0.0                0.0   \n",
       "9827              0.0              0.0              0.0                0.0   \n",
       "9828              0.0              0.0              0.0                0.0   \n",
       "\n",
       "      AEducation_LOWER  AHousing_OTH  AHousing_OWN  AHousing_REN  AHousing_WEL  \n",
       "0                  1.0           1.0           0.0           0.0           0.0  \n",
       "1                  0.0           0.0           0.0           0.0           0.0  \n",
       "2                  1.0           0.0           0.0           0.0           1.0  \n",
       "3                  1.0           0.0           1.0           0.0           0.0  \n",
       "4                  0.0           0.0           1.0           0.0           0.0  \n",
       "...                ...           ...           ...           ...           ...  \n",
       "9824               1.0           0.0           0.0           1.0           0.0  \n",
       "9825               1.0           0.0           0.0           1.0           0.0  \n",
       "9826               1.0           0.0           0.0           0.0           0.0  \n",
       "9827               0.0           0.0           0.0           0.0           0.0  \n",
       "9828               1.0           0.0           1.0           0.0           0.0  \n",
       "\n",
       "[9829 rows x 26 columns]"
      ]
     },
     "execution_count": 24,
     "metadata": {},
     "output_type": "execute_result"
    }
   ],
   "source": [
    "X_train"
   ]
  },
  {
   "cell_type": "code",
   "execution_count": 25,
   "id": "31942eb4",
   "metadata": {},
   "outputs": [
    {
     "data": {
      "text/plain": [
       "'LStatus ~ AIncome+ANumberChildren+GCollateralAmount+GGuarantorNumber+Age+AGender_M+GCollateralType_PER+GCollateralType_REA+GCollateralType_SAV+AMaritalStatus_MAR+AMaritalStatus_SEP+AMaritalStatus_SIN+AMaritalStatus_UNR+AMaritalStatus_WID+AOccupation_MER+AOccupation_OTH+AOccupation_OWN+AOccupation_PRV+AOccupation_SLF+AOccupation_UNI+AEducation_HIGHER+AEducation_LOWER+AHousing_OTH+AHousing_OWN+AHousing_REN+AHousing_WEL'"
      ]
     },
     "execution_count": 25,
     "metadata": {},
     "output_type": "execute_result"
    }
   ],
   "source": [
    "formula = 'LStatus ~ ' + '+'.join(df_train.columns[1:])\n",
    "formula"
   ]
  },
  {
   "cell_type": "code",
   "execution_count": 28,
   "id": "dea07577",
   "metadata": {},
   "outputs": [
    {
     "name": "stdout",
     "output_type": "stream",
     "text": [
      "                 Generalized Linear Model Regression Results                  \n",
      "==============================================================================\n",
      "Dep. Variable:                LStatus   No. Observations:                 9829\n",
      "Model:                            GLM   Df Residuals:                     9802\n",
      "Model Family:                Binomial   Df Model:                           26\n",
      "Link Function:                  logit   Scale:                          1.0000\n",
      "Method:                          IRLS   Log-Likelihood:                -3984.5\n",
      "Date:                Mon, 02 May 2022   Deviance:                       7969.0\n",
      "Time:                        13:46:10   Pearson chi2:                 9.82e+03\n",
      "No. Iterations:                     6                                         \n",
      "Covariance Type:            nonrobust                                         \n",
      "=======================================================================================\n",
      "                          coef    std err          z      P>|z|      [0.025      0.975]\n",
      "---------------------------------------------------------------------------------------\n",
      "Intercept              -1.3482      0.314     -4.294      0.000      -1.964      -0.733\n",
      "AIncome             -5.911e-06   5.65e-06     -1.046      0.296    -1.7e-05    5.16e-06\n",
      "ANumberChildren         0.0256      0.035      0.742      0.458      -0.042       0.093\n",
      "GCollateralAmount   -1.036e-07   8.41e-08     -1.231      0.218   -2.68e-07    6.13e-08\n",
      "GGuarantorNumber       -0.2223      0.071     -3.136      0.002      -0.361      -0.083\n",
      "Age                 -3.117e-06      0.004     -0.001      0.999      -0.008       0.008\n",
      "AGender_M              -0.2398      0.061     -3.923      0.000      -0.360      -0.120\n",
      "GCollateralType_PER    -0.8554      0.213     -4.020      0.000      -1.272      -0.438\n",
      "GCollateralType_REA    -1.3751      0.211     -6.524      0.000      -1.788      -0.962\n",
      "GCollateralType_SAV     0.0991      0.195      0.507      0.612      -0.284       0.482\n",
      "AMaritalStatus_MAR      0.1593      0.128      1.249      0.212      -0.091       0.409\n",
      "AMaritalStatus_SEP     -0.7064      0.301     -2.343      0.019      -1.297      -0.115\n",
      "AMaritalStatus_SIN      0.1539      0.132      1.162      0.245      -0.106       0.413\n",
      "AMaritalStatus_UNR     -0.0848      0.239     -0.355      0.722      -0.553       0.383\n",
      "AMaritalStatus_WID      0.2896      0.214      1.351      0.177      -0.131       0.710\n",
      "AOccupation_MER        -0.2049      0.131     -1.560      0.119      -0.462       0.053\n",
      "AOccupation_OTH        -0.1054      0.148     -0.712      0.477      -0.395       0.185\n",
      "AOccupation_OWN        -0.0267      0.222     -0.120      0.904      -0.462       0.409\n",
      "AOccupation_PRV        -0.4896      0.115     -4.256      0.000      -0.715      -0.264\n",
      "AOccupation_SLF        -0.0381      0.099     -0.385      0.700      -0.232       0.156\n",
      "AOccupation_UNI         0.2020      0.335      0.602      0.547      -0.455       0.859\n",
      "AEducation_HIGHER       0.2680      0.195      1.375      0.169      -0.114       0.650\n",
      "AEducation_LOWER       -0.0808      0.062     -1.296      0.195      -0.203       0.041\n",
      "AHousing_OTH            1.7612      0.106     16.538      0.000       1.552       1.970\n",
      "AHousing_OWN            0.7661      0.106      7.222      0.000       0.558       0.974\n",
      "AHousing_REN            2.1387      0.095     22.606      0.000       1.953       2.324\n",
      "AHousing_WEL            1.7390      0.098     17.765      0.000       1.547       1.931\n",
      "=======================================================================================\n"
     ]
    }
   ],
   "source": [
    "model = smf.glm(formula = formula, data=df_train, family=sm.families.Binomial())\n",
    "result = model.fit()\n",
    "print(result.summary())"
   ]
  },
  {
   "cell_type": "code",
   "execution_count": 55,
   "id": "108db5b6",
   "metadata": {},
   "outputs": [
    {
     "name": "stdout",
     "output_type": "stream",
     "text": [
      "0.7507105924863198\n"
     ]
    }
   ],
   "source": [
    "# AUC Score\n",
    "from sklearn.metrics import roc_curve, auc\n",
    "predictions = result.predict(X_test)\n",
    "fpr, tpr, thresholds = roc_curve(y_test[\"LStatus\"], predictions)\n",
    "auc_score = auc(fpr, tpr)\n",
    "print(auc_score)"
   ]
  },
  {
   "cell_type": "code",
   "execution_count": 57,
   "id": "d4a2835a",
   "metadata": {},
   "outputs": [
    {
     "data": {
      "image/png": "[encoded data removed]",
      "text/plain": [
       "<Figure size 432x288 with 1 Axes>"
      ]
     },
     "metadata": {
      "needs_background": "light"
     },
     "output_type": "display_data"
    }
   ],
   "source": [
    "plt.figure()\n",
    "lw = 2\n",
    "plt.plot(\n",
    "    fpr,\n",
    "    tpr,\n",
    "    color=\"darkorange\",\n",
    "    lw=lw,\n",
    "    label=\"ROC curve (area = %0.2f)\" % auc_score,\n",
    ")\n",
    "plt.plot([0, 1], [0, 1], color=\"navy\", lw=lw, linestyle=\"--\")\n",
    "plt.xlim([0.0, 1.0])\n",
    "plt.ylim([0.0, 1.05])\n",
    "plt.xlabel(\"False Positive Rate\")\n",
    "plt.ylabel(\"True Positive Rate\")\n",
    "plt.title(\"Receiver operating characteristic example\")\n",
    "plt.legend(loc=\"lower right\")\n",
    "plt.show()"
   ]
  },
  {
   "cell_type": "code",
   "execution_count": 30,
   "id": "1a75c78f",
   "metadata": {},
   "outputs": [
    {
     "data": {
      "text/plain": [
       "0.25137080145695895"
      ]
     },
     "execution_count": 30,
     "metadata": {},
     "output_type": "execute_result"
    }
   ],
   "source": [
    "# BCE Loss\n",
    "-sum(y_test[\"LStatus\"]*np.log(predictions))/y_test.shape[0]"
   ]
  },
  {
   "cell_type": "code",
   "execution_count": 31,
   "id": "9a8eb4ae",
   "metadata": {},
   "outputs": [],
   "source": [
    "ksscore = get_ksscore(predictions, y_test[\"LStatus\"])[0]"
   ]
  },
  {
   "cell_type": "code",
   "execution_count": 32,
   "id": "49304bea",
   "metadata": {},
   "outputs": [
    {
     "name": "stdout",
     "output_type": "stream",
     "text": [
      "     yhat = 0  yhat = 1\n",
      "y=0      1837       880\n",
      "y=1       157       402\n"
     ]
    }
   ],
   "source": [
    "# Classification Report\n",
    "get_classification_report(predictions, y_test[\"LStatus\"], ksscore)"
   ]
  },
  {
   "cell_type": "markdown",
   "id": "6f9a95a7",
   "metadata": {},
   "source": [
    "### Neural Network Architecture"
   ]
  },
  {
   "cell_type": "code",
   "execution_count": 33,
   "id": "a36ec594",
   "metadata": {},
   "outputs": [
    {
     "data": {
      "text/plain": [
       "Sequential(\n",
       "  (0): Linear(in_features=26, out_features=26, bias=True)\n",
       "  (1): Tanh()\n",
       "  (2): Linear(in_features=26, out_features=1, bias=True)\n",
       "  (3): Sigmoid()\n",
       ")"
      ]
     },
     "execution_count": 33,
     "metadata": {},
     "output_type": "execute_result"
    }
   ],
   "source": [
    "#from collections import OrderedDict\n",
    "\n",
    "#loan_nn_model = nn.Sequential(OrderedDict([\n",
    "#    ('hidden_linear', nn.Linear(7, 7)),\n",
    "#    ('hidden_activation', nn.Tanh()),\n",
    "#    ('output_linear', nn.Linear(7, 1)),\n",
    "#]))\n",
    "\n",
    "loan_nn_model = nn.Sequential(\n",
    "    nn.Linear(26, 26),\n",
    "    nn.Tanh(),\n",
    "    nn.Linear(26, 1),\n",
    "    nn.Sigmoid())\n",
    "\n",
    "# Loss function without weight\n",
    "loss_fn = nn.BCELoss() \n",
    "\n",
    "### The class is imbalanced.  May need to put weight\n",
    "### weightval1 = 100-yvec_all.mean()*100\n",
    "### weightval0 = yvec_all.mean()*100\n",
    "### Not sure whether to put in weight1 or weight0\n",
    "#loss_fn = nn.BCELoss(weight=weightval1) \n",
    "\n",
    "loan_nn_model"
   ]
  },
  {
   "cell_type": "markdown",
   "id": "da8cf66a",
   "metadata": {},
   "source": [
    "### Training Neural Network "
   ]
  },
  {
   "cell_type": "code",
   "execution_count": 34,
   "id": "69eff8d9",
   "metadata": {},
   "outputs": [],
   "source": [
    "from sklearn.metrics import roc_curve, auc\n",
    "\n",
    "def get_auc(y_hat_val, yvec_val):\n",
    "    y_score = y_hat_val.detach().numpy()\n",
    "    y_score = y_score.reshape((y_score.shape[0]))\n",
    "    y_true = yvec_val.detach().numpy()\n",
    "    y_true = y_true.reshape((y_true.shape[0]))\n",
    "    fpr, tpr, thresholds = roc_curve(y_true, y_score)\n",
    "    auc_score = auc(fpr, tpr)\n",
    "    return auc_score"
   ]
  },
  {
   "cell_type": "code",
   "execution_count": 35,
   "id": "3c8f30be",
   "metadata": {},
   "outputs": [],
   "source": [
    "def training_loop(n_epochs, optimizer, model, loss_fn, xmat_train, xmat_val, yvec_train, yvec_val):\n",
    "    for epoch in range(1, n_epochs + 1):\n",
    "        yhat_train = model(xmat_train) # <1>\n",
    "        train_loss = loss_fn(yhat_train, yvec_train)\n",
    "        train_auc = get_auc(yhat_train, yvec_train)\n",
    "                             \n",
    "        with torch.no_grad():\n",
    "            yhat_val = model(xmat_val) # <1>\n",
    "            val_loss = loss_fn(yhat_val, yvec_val)\n",
    "            val_auc = get_auc(yhat_val, yvec_val)\n",
    "        \n",
    "        optimizer.zero_grad()\n",
    "        train_loss.backward() # <2>\n",
    "        optimizer.step()\n",
    "      \n",
    "        if epoch == 1 or epoch % 100 == 0:\n",
    "            print(f\"Epoch {epoch}, Training loss {train_loss.item():.4f}, Training AUC {train_auc:.4f}\", \n",
    "                  f\" Validation loss {val_loss.item():.4f}, Validation AUC {val_auc:.4f}\")"
   ]
  },
  {
   "cell_type": "code",
   "execution_count": 36,
   "id": "d5542936",
   "metadata": {},
   "outputs": [
    {
     "name": "stdout",
     "output_type": "stream",
     "text": [
      "Epoch 1, Training loss 0.6155, Training AUC 0.5556  Validation loss 0.6177, Validation AUC 0.5457\n",
      "Epoch 100, Training loss 0.4525, Training AUC 0.6603  Validation loss 0.4445, Validation AUC 0.6427\n",
      "Epoch 200, Training loss 0.4255, Training AUC 0.6999  Validation loss 0.4216, Validation AUC 0.6862\n",
      "Epoch 300, Training loss 0.4215, Training AUC 0.7106  Validation loss 0.4241, Validation AUC 0.6805\n",
      "Epoch 400, Training loss 0.4187, Training AUC 0.7170  Validation loss 0.4275, Validation AUC 0.6777\n",
      "Epoch 500, Training loss 0.4170, Training AUC 0.7195  Validation loss 0.4294, Validation AUC 0.6738\n",
      "Epoch 600, Training loss 0.4160, Training AUC 0.7206  Validation loss 0.4307, Validation AUC 0.6728\n",
      "Epoch 700, Training loss 0.4152, Training AUC 0.7216  Validation loss 0.4314, Validation AUC 0.6728\n",
      "Epoch 800, Training loss 0.4145, Training AUC 0.7231  Validation loss 0.4321, Validation AUC 0.6723\n",
      "Epoch 900, Training loss 0.4125, Training AUC 0.7262  Validation loss 0.4338, Validation AUC 0.6706\n",
      "Epoch 1000, Training loss 0.4113, Training AUC 0.7292  Validation loss 0.4361, Validation AUC 0.6671\n"
     ]
    }
   ],
   "source": [
    "learning_rate = 1.5e-2\n",
    "# optimizer = optim.SGD([params], lr=learning_rate)\n",
    "optimizer = optim.Adam(loan_nn_model.parameters(), lr=learning_rate)\n",
    "n_ep = 1000\n",
    "\n",
    "training_loop(\n",
    "    n_epochs = n_ep,\n",
    "    optimizer = optimizer,\n",
    "    model = loan_nn_model,\n",
    "    loss_fn = loss_fn,\n",
    "    xmat_train = xmat_train,\n",
    "    xmat_val = xmat_val,\n",
    "    yvec_train = yvec_train,\n",
    "    yvec_val = yvec_val)"
   ]
  },
  {
   "cell_type": "code",
   "execution_count": 37,
   "id": "52d5e1e9",
   "metadata": {},
   "outputs": [
    {
     "name": "stdout",
     "output_type": "stream",
     "text": [
      "0.weight torch.Size([26, 26])\n",
      "0.bias torch.Size([26])\n",
      "2.weight torch.Size([1, 26])\n",
      "2.bias torch.Size([1])\n"
     ]
    }
   ],
   "source": [
    "for name, param in loan_nn_model.named_parameters():\n",
    "    print(name, param.shape)"
   ]
  },
  {
   "cell_type": "markdown",
   "id": "d9d3be62",
   "metadata": {},
   "source": [
    "### Shap"
   ]
  },
  {
   "cell_type": "code",
   "execution_count": 38,
   "id": "8b31f71e",
   "metadata": {},
   "outputs": [],
   "source": [
    "import shap\n",
    "e = shap.DeepExplainer(loan_nn_model, data = xmat_test)"
   ]
  },
  {
   "cell_type": "code",
   "execution_count": 39,
   "id": "32a1d857",
   "metadata": {},
   "outputs": [
    {
     "name": "stdout",
     "output_type": "stream",
     "text": [
      "Round  0\n"
     ]
    },
    {
     "name": "stderr",
     "output_type": "stream",
     "text": [
      "Using a non-full backward hook when the forward contains multiple autograd Nodes is deprecated and will be removed in future versions. This hook will be missing some grad_input. Please use register_full_backward_hook to get the documented behavior.\n"
     ]
    },
    {
     "name": "stdout",
     "output_type": "stream",
     "text": [
      "Round  100\n",
      "Round  200\n",
      "Round  300\n",
      "Round  400\n",
      "Round  500\n",
      "Round  600\n",
      "Round  700\n",
      "Round  800\n",
      "Round  900\n",
      "Round  1000\n",
      "Round  1100\n",
      "Round  1200\n",
      "Round  1300\n",
      "Round  1400\n",
      "Round  1500\n",
      "Round  1600\n",
      "Round  1700\n",
      "Round  1800\n",
      "Round  1900\n",
      "Round  2000\n",
      "Round  2100\n",
      "Round  2200\n",
      "Round  2300\n",
      "Round  2400\n",
      "Round  2500\n",
      "Round  2600\n",
      "Round  2700\n",
      "Round  2800\n",
      "Round  2900\n",
      "Round  3000\n",
      "Round  3100\n",
      "Round  3200\n"
     ]
    }
   ],
   "source": [
    "shap_values = np.zeros((xmat_test.shape[0], xmat_test.shape[1]))\n",
    "\n",
    "for i in range(xmat_test.shape[0]):\n",
    "    if i%100 == 0:\n",
    "        print(\"Round \", i)\n",
    "    shap_values[i, :] = e.shap_values(xmat_test[[i], :])"
   ]
  },
  {
   "cell_type": "code",
   "execution_count": 40,
   "id": "3024effa",
   "metadata": {},
   "outputs": [
    {
     "data": {
      "text/plain": [
       "array([[ 6.78613177e-03, -3.45435762e-03, -5.23457788e-02, ...,\n",
       "        -1.39436126e-02, -3.85534950e-02, -1.83442459e-02],\n",
       "       [ 1.30242620e-06, -3.28123715e-05,  6.37771636e-02, ...,\n",
       "        -9.63195589e-07, -5.27258589e-06, -2.27112014e-06],\n",
       "       [-1.11790057e-02, -5.90739818e-03,  2.43976377e-02, ...,\n",
       "        -2.51798201e-02, -6.62859604e-02, -1.58838890e-02],\n",
       "       ...,\n",
       "       [ 1.02144701e-03,  4.39095125e-03, -5.07070534e-02, ...,\n",
       "         5.53769816e-04, -2.73768138e-02, -2.13813838e-02],\n",
       "       [-1.23392837e-02, -1.68806333e-02, -2.58719455e-02, ...,\n",
       "         1.58756617e-02, -3.06041911e-02, -2.32490599e-02],\n",
       "       [ 9.24045196e-07,  2.43283775e-05,  6.37393743e-02, ...,\n",
       "        -2.18610921e-06,  3.36958547e-05, -5.15672491e-06]])"
      ]
     },
     "execution_count": 40,
     "metadata": {},
     "output_type": "execute_result"
    }
   ],
   "source": [
    "shap_values"
   ]
  },
  {
   "cell_type": "code",
   "execution_count": 41,
   "id": "3c6ac6be",
   "metadata": {},
   "outputs": [
    {
     "name": "stdout",
     "output_type": "stream",
     "text": [
      "tensor(0.1763)\n"
     ]
    }
   ],
   "source": [
    "global_avg = torch.mean(yvec_train)\n",
    "print(global_avg)"
   ]
  },
  {
   "cell_type": "code",
   "execution_count": 43,
   "id": "e044f802",
   "metadata": {},
   "outputs": [
    {
     "data": {
      "image/png": "[encoded data removed]",
      "text/plain": [
       "<Figure size 576x468 with 3 Axes>"
      ]
     },
     "metadata": {},
     "output_type": "display_data"
    }
   ],
   "source": [
    "# https://github.com/slundberg/shap/issues/1420\n",
    "class ShapInput(object):\n",
    "    def __init__(self, expectation, shap_values, features, feat_names):\n",
    "        self.base_values = expectation\n",
    "        self.values = shap_values\n",
    "        self.data = features\n",
    "        self.feature_names = feat_names\n",
    "\n",
    "shap_input = ShapInput(0.1765, shap_values[0], \n",
    "                       xmat_test[i, :], feat_names=editdummy.columns[1:])\n",
    "\n",
    "shap.waterfall_plot(shap_input)"
   ]
  },
  {
   "cell_type": "code",
   "execution_count": 44,
   "id": "6d942e0c",
   "metadata": {},
   "outputs": [
    {
     "data": {
      "text/plain": [
       "<matplotlib.lines.Line2D at 0x7f0e74f7f2b0>"
      ]
     },
     "execution_count": 44,
     "metadata": {},
     "output_type": "execute_result"
    },
    {
     "data": {
      "image/png": "[encoded data removed]",
      "text/plain": [
       "<Figure size 432x288 with 1 Axes>"
      ]
     },
     "metadata": {
      "needs_background": "light"
     },
     "output_type": "display_data"
    }
   ],
   "source": [
    "fig, ax = plt.subplots()\n",
    "col_idx = 0\n",
    "color = np.where(shap_values[:,col_idx] > 0, \"red\", \"blue\")\n",
    "ax.scatter(X_test.iloc[:,col_idx],shap_values[:,col_idx], c = color)\n",
    "x_col_name = X_test.columns[col_idx]\n",
    "ax.set(xlabel = x_col_name, ylabel = \"Shap Value\", title = f\"Shap Values of {x_col_name}\")\n",
    "ax.axhline(y = 0, color = 'green', linestyle = '--')"
   ]
  },
  {
   "cell_type": "code",
   "execution_count": 45,
   "id": "74e6856e",
   "metadata": {},
   "outputs": [],
   "source": [
    "avg_shap = np.sum(abs(shap_values), axis = 0)/X_test.shape[0]\n",
    "feature_importances = []\n",
    "for i in range(X_test.shape[1]):\n",
    "    f_importance = avg_shap[i]\n",
    "    feature_name = X_test.columns[i]\n",
    "    feature_importances.append((feature_name, f_importance))\n",
    "    \n",
    "feature_importances = sorted(feature_importances, key = lambda x: x[1])"
   ]
  },
  {
   "cell_type": "code",
   "execution_count": 46,
   "id": "19a90b01",
   "metadata": {},
   "outputs": [
    {
     "data": {
      "image/png": "[encoded data removed]",
      "text/plain": [
       "<Figure size 432x288 with 1 Axes>"
      ]
     },
     "metadata": {
      "needs_background": "light"
     },
     "output_type": "display_data"
    }
   ],
   "source": [
    "fig, ax = plt.subplots()\n",
    "\n",
    "hbars = ax.barh([x[0] for x in feature_importances], [x[1] for x in feature_importances], color = \"green\")\n",
    "ax.set(xlabel = \"Mean of Absolute Shap Value\", title = f\"Mean of Absolute Shap Values by Each Feature\")\n",
    "                \n",
    "for bar in hbars:\n",
    "    width = bar.get_width()\n",
    "    label_y = bar.get_y() + bar.get_height() / 2\n",
    "    ax.text(width, label_y, s=f'{width:.3f}')"
   ]
  }
 ],
 "metadata": {
  "kernelspec": {
   "display_name": "Python 3",
   "language": "python",
   "name": "python3"
  },
  "language_info": {
   "codemirror_mode": {
    "name": "ipython",
    "version": 3
   },
   "file_extension": ".py",
   "mimetype": "text/x-python",
   "name": "python",
   "nbconvert_exporter": "python",
   "pygments_lexer": "ipython3",
   "version": "3.8.8"
  }
 },
 "nbformat": 4,
 "nbformat_minor": 5
}
